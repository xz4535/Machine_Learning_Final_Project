{
 "cells": [
  {
   "cell_type": "markdown",
   "metadata": {},
   "source": [
    "## Setup Environment\n",
    "Python Environment: Use an environment with Python and necessary libraries installed (e.g., numpy, pandas, matplotlib for data manipulation and visualization; TensorFlow or PyTorch for neural network modeling)."
   ]
  },
  {
   "cell_type": "code",
   "execution_count": 92,
   "metadata": {},
   "outputs": [],
   "source": [
    "import numpy as np\n",
    "import tensorflow as tf\n",
    "from tensorflow.keras.models import Sequential\n",
    "from tensorflow.keras.layers import Dense\n",
    "import pandas as pd\n",
    "\n"
   ]
  },
  {
   "cell_type": "markdown",
   "metadata": {},
   "source": [
    "## prepare data"
   ]
  },
  {
   "cell_type": "code",
   "execution_count": 97,
   "metadata": {},
   "outputs": [],
   "source": [
    "# Assuming 'stock_data' is a DataFrame containing the stock data\n",
    "file_path = 'TSLA_stock_data_2023.csv'\n",
    "stock_data = pd.read_csv(file_path)\n"
   ]
  },
  {
   "cell_type": "code",
   "execution_count": 103,
   "metadata": {},
   "outputs": [
    {
     "name": "stdout",
     "output_type": "stream",
     "text": [
      "                       Datetime      Open      High       Low     Close  \\\n",
      "0     2023-01-03 09:30:00-05:00  0.079293  0.063917  0.043810  0.028010   \n",
      "1     2023-01-03 10:30:00-05:00  0.041261  0.029894  0.032008  0.014551   \n",
      "2     2023-01-03 11:30:00-05:00  0.028049  0.010471  0.019441  0.002494   \n",
      "3     2023-01-03 12:30:00-05:00  0.016139  0.000000  0.014517  0.000000   \n",
      "4     2023-01-03 13:30:00-05:00  0.013685  0.005051  0.018108  0.008575   \n",
      "...                         ...       ...       ...       ...       ...   \n",
      "1737  2023-12-29 11:30:00-05:00  0.743414  0.743068  0.748141  0.742037   \n",
      "1738  2023-12-29 12:30:00-05:00  0.745643  0.744365  0.748808  0.749065   \n",
      "1739  2023-12-29 13:30:00-05:00  0.752537  0.749811  0.756861  0.747014   \n",
      "1740  2023-12-29 14:30:00-05:00  0.750461  0.748151  0.757066  0.752144   \n",
      "1741  2023-12-29 15:30:00-05:00  0.755510  0.746543  0.750500  0.742192   \n",
      "\n",
      "        Volume  Dividends  Stock Splits  \n",
      "0     0.675390        NaN           NaN  \n",
      "1     0.323906        NaN           NaN  \n",
      "2     0.318607        NaN           NaN  \n",
      "3     0.214739        NaN           NaN  \n",
      "4     0.206670        NaN           NaN  \n",
      "...        ...        ...           ...  \n",
      "1737  0.081401        NaN           NaN  \n",
      "1738  0.070578        NaN           NaN  \n",
      "1739  0.054754        NaN           NaN  \n",
      "1740  0.043303        NaN           NaN  \n",
      "1741  0.031024        NaN           NaN  \n",
      "\n",
      "[1742 rows x 8 columns]\n",
      "          Open      High       Low     Close    Volume  Dividends  \\\n",
      "0     0.079293  0.063917  0.043810  0.028010  0.675390        NaN   \n",
      "1     0.041261  0.029894  0.032008  0.014551  0.323906        NaN   \n",
      "2     0.028049  0.010471  0.019441  0.002494  0.318607        NaN   \n",
      "3     0.016139  0.000000  0.014517  0.000000  0.214739        NaN   \n",
      "4     0.013685  0.005051  0.018108  0.008575  0.206670        NaN   \n",
      "...        ...       ...       ...       ...       ...        ...   \n",
      "1737  0.743414  0.743068  0.748141  0.742037  0.081401        NaN   \n",
      "1738  0.745643  0.744365  0.748808  0.749065  0.070578        NaN   \n",
      "1739  0.752537  0.749811  0.756861  0.747014  0.054754        NaN   \n",
      "1740  0.750461  0.748151  0.757066  0.752144  0.043303        NaN   \n",
      "1741  0.755510  0.746543  0.750500  0.742192  0.031024        NaN   \n",
      "\n",
      "      Stock Splits  \n",
      "0              NaN  \n",
      "1              NaN  \n",
      "2              NaN  \n",
      "3              NaN  \n",
      "4              NaN  \n",
      "...            ...  \n",
      "1737           NaN  \n",
      "1738           NaN  \n",
      "1739           NaN  \n",
      "1740           NaN  \n",
      "1741           NaN  \n",
      "\n",
      "[1742 rows x 7 columns]\n"
     ]
    }
   ],
   "source": [
    "# Convert date column to datetime if it exists\n",
    "# if 'Datetime' in stock_data.columns:\n",
    "#     print(\"da\")\n",
    "#     stock_data['Date'] = pd.to_datetime(stock_data['Datetime'])\n",
    "#     stock_data['Year'] = stock_data['Datetime'].dt.year\n",
    "#     stock_data['Month'] = stock_data['Datetime'].dt.month\n",
    "#     stock_data['Day'] = stock_data['Datetime'].dt.day\n",
    "#     # Optionally, drop the original date column if no longer needed\n",
    "print(stock_data)\n",
    "\n",
    "# Select only the numeric columns for normalization\n",
    "numeric_cols = stock_data.select_dtypes(include=['number']).columns\n",
    "stock_data[numeric_cols] = (stock_data[numeric_cols] - stock_data[numeric_cols].min()) / (stock_data[numeric_cols].max() - stock_data[numeric_cols].min())\n",
    "\n",
    "stock_data.fillna(method='ffill', inplace=True)  # forward fill to propagate last valid observation forward\n",
    "print(stock_data[numeric_cols])\n"
   ]
  },
  {
   "cell_type": "code",
   "execution_count": 104,
   "metadata": {},
   "outputs": [
    {
     "ename": "SyntaxError",
     "evalue": "invalid syntax (568946400.py, line 5)",
     "output_type": "error",
     "traceback": [
      "\u001b[1;36m  Cell \u001b[1;32mIn[104], line 5\u001b[1;36m\u001b[0m\n\u001b[1;33m    Dense(64, activation='relu', input_shape=(,input_dim)),\u001b[0m\n\u001b[1;37m                                              ^\u001b[0m\n\u001b[1;31mSyntaxError\u001b[0m\u001b[1;31m:\u001b[0m invalid syntax\n"
     ]
    }
   ],
   "source": [
    "# Define the neural network for the agent\n",
    "def create_model(input_dim):\n",
    "    print(\"1\")\n",
    "    model = Sequential([\n",
    "        Dense(64, activation='relu', input_shape=(input_dim,)),\n",
    "        Dense(32, activation='relu'),\n",
    "        Dense(3, activation='linear')  # Assuming three actions: buy, hold, sell\n",
    "    ])\n",
    "    model.compile(optimizer='adam', loss='mse')\n",
    "    print(\"1 succ\")\n",
    "    return model\n"
   ]
  },
  {
   "cell_type": "markdown",
   "metadata": {},
   "source": [
    "## Define State and Reward\n",
    "State Definition: Define the state as a vector of features like the day's opening price, high, low, close, and volume.\n",
    "Reward Calculation: Calculate rewards based on the change in stock price, as described in the paper.\n"
   ]
  },
  {
   "cell_type": "code",
   "execution_count": null,
   "metadata": {},
   "outputs": [],
   "source": [
    "# Define the neural network for the agent\n",
    "def create_model(input_dim):\n",
    "    print(\"2\")\n",
    "    model = Sequential([\n",
    "        Dense(64, activation='relu', input_shape=(input_dim,)),\n",
    "        Dense(32, activation='relu'),\n",
    "        Dense(3, activation='linear')  # Assuming three actions: buy, hold, sell\n",
    "    ])\n",
    "    model.compile(optimizer='adam', loss='mse')\n",
    "    print(\"2 scs\")\n",
    "    print(model)\n",
    "    return model\n"
   ]
  },
  {
   "cell_type": "code",
   "execution_count": null,
   "metadata": {},
   "outputs": [],
   "source": [
    "def choose_action(state, model):\n",
    "    print(\"3\")\n",
    "    if isinstance(state, pd.Series):\n",
    "        state = state.values \n",
    "\n",
    "    # Reshape the state to fit the model's input requirements (1, number of features)\n",
    "    state = state.reshape(1, -1)\n",
    "    # Use the model to predict the action from the current state\n",
    "    q_values = model.predict(state)\n",
    "    print(\"3 scs\")\n",
    "    return np.argmax(q_values[0])  # Choosing the action with the highest Q-value\n"
   ]
  },
  {
   "cell_type": "code",
   "execution_count": null,
   "metadata": {},
   "outputs": [],
   "source": [
    "def calculate_reward(current_state, next_state):\n",
    "    print(\"4\")\n",
    "    # Assuming 'close_prices' is a list or array of closing prices\n",
    "    # rewards = np.diff(close_prices) / close_prices[:-1]  # Percentage change between consecutive days\n",
    "    # return rewards\n",
    "    current_price = current_state['Close']\n",
    "    next_price = next_state['Close']\n",
    "    print(\"4 scs\")\n",
    "    return (next_price - current_price) / current_price\n"
   ]
  },
  {
   "cell_type": "markdown",
   "metadata": {},
   "source": [
    "## Reinforcement Learning Model\n",
    "Model Initialization: Initialize the parameters for the TD(0) algorithm, including the discount factor (γ) and learning rate (α).\n",
    "Network Setup: Set up a neural network for function approximation. A simple multi-layer perceptron (MLP) can be used initially."
   ]
  },
  {
   "cell_type": "code",
   "execution_count": null,
   "metadata": {},
   "outputs": [],
   "source": [
    "\n",
    "def update_model(model, state, action, reward, next_state):\n",
    "    print(\"5\")\n",
    "    state = state.values.astype('float32').reshape(1, -1)\n",
    "    next_state = next_state.values.astype('float32').reshape(1, -1)\n",
    "    # Perform a TD update on the model\n",
    "    target = reward + 0.95 * np.amax(model.predict(np.array([next_state]))[0])  # Discount factor gamma = 0.95\n",
    "    target_vec = model.predict(np.array([state]))[0]\n",
    "    target_vec[action] = target\n",
    "    # model.fit(np.array([state]), np.array([target_vec]), epochs=1, verbose=0)\n",
    "    model.fit(state, target_vec.reshape(-1, 1), epochs=1, verbose=0)\n",
    "    print(\"5 scs\")\n"
   ]
  },
  {
   "cell_type": "code",
   "execution_count": null,
   "metadata": {},
   "outputs": [],
   "source": [
    "#Simulate each trading period as an episode. For each episode, reset the environment to an initial state\n",
    "def run_episode(data, model):\n",
    "    total_reward = 0\n",
    "    \n",
    "    for t in range(len(data) - 1):\n",
    "        current_state = data[numeric_cols].iloc[t]\n",
    "        next_state = data[numeric_cols].iloc[t + 1]\n",
    "        # print(current_state)\n",
    "        action = choose_action(current_state, model)\n",
    "        reward = calculate_reward(current_state, next_state)\n",
    "        \n",
    "        update_model(model, current_state, action, reward, next_state)\n",
    "        \n",
    "        total_reward += reward\n",
    "    \n",
    "    return total_reward\n"
   ]
  },
  {
   "cell_type": "markdown",
   "metadata": {},
   "source": [
    "## Training the Model\n",
    "Algorithm: Implement the TD(0) learning algorithm to update the value function based on the state and reward observed from the data.\n",
    "Iteration: Iterate over episodes (each episode can be a sequence of stock price data), updating the model with each step."
   ]
  },
  {
   "cell_type": "code",
   "execution_count": null,
   "metadata": {},
   "outputs": [
    {
     "name": "stdout",
     "output_type": "stream",
     "text": [
      "2\n"
     ]
    },
    {
     "name": "stderr",
     "output_type": "stream",
     "text": [
      "C:\\Users\\26210\\AppData\\Roaming\\Python\\Python311\\site-packages\\keras\\src\\layers\\core\\dense.py:86: UserWarning: Do not pass an `input_shape`/`input_dim` argument to a layer. When using Sequential models, prefer using an `Input(shape)` object as the first layer in the model instead.\n",
      "  super().__init__(activity_regularizer=activity_regularizer, **kwargs)\n"
     ]
    },
    {
     "ename": "ValueError",
     "evalue": "Invalid dtype: tuple",
     "output_type": "error",
     "traceback": [
      "\u001b[1;31m---------------------------------------------------------------------------\u001b[0m",
      "\u001b[1;31mValueError\u001b[0m                                Traceback (most recent call last)",
      "Cell \u001b[1;32mIn[91], line 11\u001b[0m\n\u001b[0;32m      7\u001b[0m \u001b[38;5;66;03m# Initialize the model\u001b[39;00m\n\u001b[0;32m      8\u001b[0m \u001b[38;5;66;03m# print(model.input_shape) \u001b[39;00m\n\u001b[0;32m      9\u001b[0m \u001b[38;5;66;03m# Initialize the model\u001b[39;00m\n\u001b[0;32m     10\u001b[0m num_features \u001b[38;5;241m=\u001b[39m \u001b[38;5;28mlen\u001b[39m(stock_data[numeric_cols])  \u001b[38;5;66;03m# Update to match the number of input features after preprocessing\u001b[39;00m\n\u001b[1;32m---> 11\u001b[0m model \u001b[38;5;241m=\u001b[39m create_model((\u001b[38;5;28;01mNone\u001b[39;00m,\u001b[38;5;241m1742\u001b[39m))\n",
      "Cell \u001b[1;32mIn[86], line 4\u001b[0m, in \u001b[0;36mcreate_model\u001b[1;34m(input_dim)\u001b[0m\n\u001b[0;32m      2\u001b[0m \u001b[38;5;28;01mdef\u001b[39;00m \u001b[38;5;21mcreate_model\u001b[39m(input_dim):\n\u001b[0;32m      3\u001b[0m     \u001b[38;5;28mprint\u001b[39m(\u001b[38;5;124m\"\u001b[39m\u001b[38;5;124m2\u001b[39m\u001b[38;5;124m\"\u001b[39m)\n\u001b[1;32m----> 4\u001b[0m     model \u001b[38;5;241m=\u001b[39m Sequential([\n\u001b[0;32m      5\u001b[0m         Dense(\u001b[38;5;241m64\u001b[39m, activation\u001b[38;5;241m=\u001b[39m\u001b[38;5;124m'\u001b[39m\u001b[38;5;124mrelu\u001b[39m\u001b[38;5;124m'\u001b[39m, input_shape\u001b[38;5;241m=\u001b[39m(input_dim,)),\n\u001b[0;32m      6\u001b[0m         Dense(\u001b[38;5;241m32\u001b[39m, activation\u001b[38;5;241m=\u001b[39m\u001b[38;5;124m'\u001b[39m\u001b[38;5;124mrelu\u001b[39m\u001b[38;5;124m'\u001b[39m),\n\u001b[0;32m      7\u001b[0m         Dense(\u001b[38;5;241m3\u001b[39m, activation\u001b[38;5;241m=\u001b[39m\u001b[38;5;124m'\u001b[39m\u001b[38;5;124mlinear\u001b[39m\u001b[38;5;124m'\u001b[39m)  \u001b[38;5;66;03m# Assuming three actions: buy, hold, sell\u001b[39;00m\n\u001b[0;32m      8\u001b[0m     ])\n\u001b[0;32m      9\u001b[0m     model\u001b[38;5;241m.\u001b[39mcompile(optimizer\u001b[38;5;241m=\u001b[39m\u001b[38;5;124m'\u001b[39m\u001b[38;5;124madam\u001b[39m\u001b[38;5;124m'\u001b[39m, loss\u001b[38;5;241m=\u001b[39m\u001b[38;5;124m'\u001b[39m\u001b[38;5;124mmse\u001b[39m\u001b[38;5;124m'\u001b[39m)\n\u001b[0;32m     10\u001b[0m     \u001b[38;5;28mprint\u001b[39m(\u001b[38;5;124m\"\u001b[39m\u001b[38;5;124m2 scs\u001b[39m\u001b[38;5;124m\"\u001b[39m)\n",
      "File \u001b[1;32m~\\AppData\\Roaming\\Python\\Python311\\site-packages\\keras\\src\\models\\sequential.py:73\u001b[0m, in \u001b[0;36mSequential.__init__\u001b[1;34m(self, layers, trainable, name)\u001b[0m\n\u001b[0;32m     71\u001b[0m \u001b[38;5;28;01mif\u001b[39;00m layers:\n\u001b[0;32m     72\u001b[0m     \u001b[38;5;28;01mfor\u001b[39;00m layer \u001b[38;5;129;01min\u001b[39;00m layers:\n\u001b[1;32m---> 73\u001b[0m         \u001b[38;5;28mself\u001b[39m\u001b[38;5;241m.\u001b[39madd(layer, rebuild\u001b[38;5;241m=\u001b[39m\u001b[38;5;28;01mFalse\u001b[39;00m)\n\u001b[0;32m     74\u001b[0m     \u001b[38;5;28mself\u001b[39m\u001b[38;5;241m.\u001b[39m_maybe_rebuild()\n",
      "File \u001b[1;32m~\\AppData\\Roaming\\Python\\Python311\\site-packages\\keras\\src\\models\\sequential.py:86\u001b[0m, in \u001b[0;36mSequential.add\u001b[1;34m(self, layer, rebuild)\u001b[0m\n\u001b[0;32m     84\u001b[0m \u001b[38;5;28;01mif\u001b[39;00m \u001b[38;5;129;01mnot\u001b[39;00m \u001b[38;5;28mself\u001b[39m\u001b[38;5;241m.\u001b[39m_layers:\n\u001b[0;32m     85\u001b[0m     \u001b[38;5;28;01mif\u001b[39;00m \u001b[38;5;28mgetattr\u001b[39m(layer, \u001b[38;5;124m\"\u001b[39m\u001b[38;5;124m_input_shape_arg\u001b[39m\u001b[38;5;124m\"\u001b[39m, \u001b[38;5;28;01mNone\u001b[39;00m) \u001b[38;5;129;01mis\u001b[39;00m \u001b[38;5;129;01mnot\u001b[39;00m \u001b[38;5;28;01mNone\u001b[39;00m:\n\u001b[1;32m---> 86\u001b[0m         \u001b[38;5;28mself\u001b[39m\u001b[38;5;241m.\u001b[39madd(InputLayer(shape\u001b[38;5;241m=\u001b[39mlayer\u001b[38;5;241m.\u001b[39m_input_shape_arg))\n\u001b[0;32m     88\u001b[0m \u001b[38;5;66;03m# If we are passed a Keras tensor created by keras.Input(), we\u001b[39;00m\n\u001b[0;32m     89\u001b[0m \u001b[38;5;66;03m# extract the input layer from its keras history and use that.\u001b[39;00m\n\u001b[0;32m     90\u001b[0m \u001b[38;5;28;01mif\u001b[39;00m \u001b[38;5;28mhasattr\u001b[39m(layer, \u001b[38;5;124m\"\u001b[39m\u001b[38;5;124m_keras_history\u001b[39m\u001b[38;5;124m\"\u001b[39m):\n",
      "File \u001b[1;32m~\\AppData\\Roaming\\Python\\Python311\\site-packages\\keras\\src\\layers\\core\\input_layer.py:46\u001b[0m, in \u001b[0;36mInputLayer.__init__\u001b[1;34m(self, shape, batch_size, dtype, sparse, batch_shape, input_tensor, name, **kwargs)\u001b[0m\n\u001b[0;32m     43\u001b[0m     \u001b[38;5;28;01mraise\u001b[39;00m \u001b[38;5;167;01mValueError\u001b[39;00m(\u001b[38;5;124m\"\u001b[39m\u001b[38;5;124mYou must pass a `shape` argument.\u001b[39m\u001b[38;5;124m\"\u001b[39m)\n\u001b[0;32m     45\u001b[0m \u001b[38;5;28;01mif\u001b[39;00m shape \u001b[38;5;129;01mis\u001b[39;00m \u001b[38;5;129;01mnot\u001b[39;00m \u001b[38;5;28;01mNone\u001b[39;00m:\n\u001b[1;32m---> 46\u001b[0m     shape \u001b[38;5;241m=\u001b[39m backend\u001b[38;5;241m.\u001b[39mstandardize_shape(shape)\n\u001b[0;32m     47\u001b[0m     batch_shape \u001b[38;5;241m=\u001b[39m (batch_size,) \u001b[38;5;241m+\u001b[39m shape\n\u001b[0;32m     48\u001b[0m \u001b[38;5;28mself\u001b[39m\u001b[38;5;241m.\u001b[39mbatch_shape \u001b[38;5;241m=\u001b[39m \u001b[38;5;28mtuple\u001b[39m(batch_shape)\n",
      "File \u001b[1;32m~\\AppData\\Roaming\\Python\\Python311\\site-packages\\keras\\src\\backend\\common\\variables.py:523\u001b[0m, in \u001b[0;36mstandardize_shape\u001b[1;34m(shape)\u001b[0m\n\u001b[0;32m    520\u001b[0m \u001b[38;5;28;01mif\u001b[39;00m config\u001b[38;5;241m.\u001b[39mbackend() \u001b[38;5;241m==\u001b[39m \u001b[38;5;124m\"\u001b[39m\u001b[38;5;124mjax\u001b[39m\u001b[38;5;124m\"\u001b[39m \u001b[38;5;129;01mand\u001b[39;00m \u001b[38;5;124m\"\u001b[39m\u001b[38;5;124m_DimExpr\u001b[39m\u001b[38;5;124m\"\u001b[39m \u001b[38;5;129;01min\u001b[39;00m \u001b[38;5;28mstr\u001b[39m(\u001b[38;5;28mtype\u001b[39m(e)):\n\u001b[0;32m    521\u001b[0m     \u001b[38;5;66;03m# JAX2TF tracing uses JAX-native dimension expressions\u001b[39;00m\n\u001b[0;32m    522\u001b[0m     \u001b[38;5;28;01mcontinue\u001b[39;00m\n\u001b[1;32m--> 523\u001b[0m \u001b[38;5;28;01mif\u001b[39;00m \u001b[38;5;129;01mnot\u001b[39;00m is_int_dtype(\u001b[38;5;28mtype\u001b[39m(e)):\n\u001b[0;32m    524\u001b[0m     \u001b[38;5;28;01mraise\u001b[39;00m \u001b[38;5;167;01mValueError\u001b[39;00m(\n\u001b[0;32m    525\u001b[0m         \u001b[38;5;124mf\u001b[39m\u001b[38;5;124m\"\u001b[39m\u001b[38;5;124mCannot convert \u001b[39m\u001b[38;5;124m'\u001b[39m\u001b[38;5;132;01m{\u001b[39;00mshape\u001b[38;5;132;01m}\u001b[39;00m\u001b[38;5;124m'\u001b[39m\u001b[38;5;124m to a shape. \u001b[39m\u001b[38;5;124m\"\u001b[39m\n\u001b[0;32m    526\u001b[0m         \u001b[38;5;124mf\u001b[39m\u001b[38;5;124m\"\u001b[39m\u001b[38;5;124mFound invalid entry \u001b[39m\u001b[38;5;124m'\u001b[39m\u001b[38;5;132;01m{\u001b[39;00me\u001b[38;5;132;01m}\u001b[39;00m\u001b[38;5;124m'\u001b[39m\u001b[38;5;124m of type \u001b[39m\u001b[38;5;124m'\u001b[39m\u001b[38;5;132;01m{\u001b[39;00m\u001b[38;5;28mtype\u001b[39m(e)\u001b[38;5;132;01m}\u001b[39;00m\u001b[38;5;124m'\u001b[39m\u001b[38;5;124m. \u001b[39m\u001b[38;5;124m\"\u001b[39m\n\u001b[0;32m    527\u001b[0m     )\n\u001b[0;32m    528\u001b[0m \u001b[38;5;28;01mif\u001b[39;00m e \u001b[38;5;241m<\u001b[39m \u001b[38;5;241m0\u001b[39m:\n",
      "File \u001b[1;32m~\\AppData\\Roaming\\Python\\Python311\\site-packages\\keras\\src\\backend\\common\\variables.py:554\u001b[0m, in \u001b[0;36mis_int_dtype\u001b[1;34m(dtype)\u001b[0m\n\u001b[0;32m    552\u001b[0m \u001b[38;5;129m@keras_export\u001b[39m(\u001b[38;5;124m\"\u001b[39m\u001b[38;5;124mkeras.backend.is_int_dtype\u001b[39m\u001b[38;5;124m\"\u001b[39m)\n\u001b[0;32m    553\u001b[0m \u001b[38;5;28;01mdef\u001b[39;00m \u001b[38;5;21mis_int_dtype\u001b[39m(dtype):\n\u001b[1;32m--> 554\u001b[0m     dtype \u001b[38;5;241m=\u001b[39m standardize_dtype(dtype)\n\u001b[0;32m    555\u001b[0m     \u001b[38;5;28;01mreturn\u001b[39;00m dtype\u001b[38;5;241m.\u001b[39mstartswith(\u001b[38;5;124m\"\u001b[39m\u001b[38;5;124mint\u001b[39m\u001b[38;5;124m\"\u001b[39m) \u001b[38;5;129;01mor\u001b[39;00m dtype\u001b[38;5;241m.\u001b[39mstartswith(\u001b[38;5;124m\"\u001b[39m\u001b[38;5;124muint\u001b[39m\u001b[38;5;124m\"\u001b[39m)\n",
      "File \u001b[1;32m~\\AppData\\Roaming\\Python\\Python311\\site-packages\\keras\\src\\backend\\common\\variables.py:495\u001b[0m, in \u001b[0;36mstandardize_dtype\u001b[1;34m(dtype)\u001b[0m\n\u001b[0;32m    492\u001b[0m     dtype \u001b[38;5;241m=\u001b[39m dtype\u001b[38;5;241m.\u001b[39m\u001b[38;5;18m__name__\u001b[39m\n\u001b[0;32m    494\u001b[0m \u001b[38;5;28;01mif\u001b[39;00m dtype \u001b[38;5;129;01mnot\u001b[39;00m \u001b[38;5;129;01min\u001b[39;00m dtypes\u001b[38;5;241m.\u001b[39mALLOWED_DTYPES:\n\u001b[1;32m--> 495\u001b[0m     \u001b[38;5;28;01mraise\u001b[39;00m \u001b[38;5;167;01mValueError\u001b[39;00m(\u001b[38;5;124mf\u001b[39m\u001b[38;5;124m\"\u001b[39m\u001b[38;5;124mInvalid dtype: \u001b[39m\u001b[38;5;132;01m{\u001b[39;00mdtype\u001b[38;5;132;01m}\u001b[39;00m\u001b[38;5;124m\"\u001b[39m)\n\u001b[0;32m    496\u001b[0m \u001b[38;5;28;01mreturn\u001b[39;00m dtype\n",
      "\u001b[1;31mValueError\u001b[0m: Invalid dtype: tuple"
     ]
    }
   ],
   "source": [
    "# Run multiple episodes to train the model effectively.\n",
    "def train_model(data, model, episodes):\n",
    "    for e in range(episodes):\n",
    "        total_reward = run_episode(data, model)\n",
    "        print(f'Episode {e+1}/{episodes}, Total Reward: {total_reward}')\n",
    "\n",
    "# Initialize the model\n",
    "# print(model.input_shape) \n",
    "# Initialize the model\n",
    "num_features = len(stock_data[numeric_cols])  # Update to match the number of input features after preprocessing\n",
    "model = create_model((None,1742))\n",
    "\n"
   ]
  },
  {
   "cell_type": "code",
   "execution_count": null,
   "metadata": {},
   "outputs": [
    {
     "ename": "ValueError",
     "evalue": "Exception encountered when calling Sequential.call().\n\n\u001b[1mInput 0 of layer \"dense_12\" is incompatible with the layer: expected axis -1 of input shape to have value 1740, but received input with shape (1, 7)\u001b[0m\n\nArguments received by Sequential.call():\n  • inputs=tf.Tensor(shape=(1, 7), dtype=float32)\n  • training=False\n  • mask=None",
     "output_type": "error",
     "traceback": [
      "\u001b[1;31m---------------------------------------------------------------------------\u001b[0m",
      "\u001b[1;31mValueError\u001b[0m                                Traceback (most recent call last)",
      "Cell \u001b[1;32mIn[48], line 1\u001b[0m\n\u001b[1;32m----> 1\u001b[0m train_model(stock_data, model, \u001b[38;5;241m1000\u001b[39m)\n",
      "Cell \u001b[1;32mIn[47], line 4\u001b[0m, in \u001b[0;36mtrain_model\u001b[1;34m(data, model, episodes)\u001b[0m\n\u001b[0;32m      2\u001b[0m \u001b[38;5;28;01mdef\u001b[39;00m \u001b[38;5;21mtrain_model\u001b[39m(data, model, episodes):\n\u001b[0;32m      3\u001b[0m     \u001b[38;5;28;01mfor\u001b[39;00m e \u001b[38;5;129;01min\u001b[39;00m \u001b[38;5;28mrange\u001b[39m(episodes):\n\u001b[1;32m----> 4\u001b[0m         total_reward \u001b[38;5;241m=\u001b[39m run_episode(data, model)\n\u001b[0;32m      5\u001b[0m         \u001b[38;5;28mprint\u001b[39m(\u001b[38;5;124mf\u001b[39m\u001b[38;5;124m'\u001b[39m\u001b[38;5;124mEpisode \u001b[39m\u001b[38;5;132;01m{\u001b[39;00me\u001b[38;5;241m+\u001b[39m\u001b[38;5;241m1\u001b[39m\u001b[38;5;132;01m}\u001b[39;00m\u001b[38;5;124m/\u001b[39m\u001b[38;5;132;01m{\u001b[39;00mepisodes\u001b[38;5;132;01m}\u001b[39;00m\u001b[38;5;124m, Total Reward: \u001b[39m\u001b[38;5;132;01m{\u001b[39;00mtotal_reward\u001b[38;5;132;01m}\u001b[39;00m\u001b[38;5;124m'\u001b[39m)\n",
      "Cell \u001b[1;32mIn[46], line 9\u001b[0m, in \u001b[0;36mrun_episode\u001b[1;34m(data, model)\u001b[0m\n\u001b[0;32m      7\u001b[0m next_state \u001b[38;5;241m=\u001b[39m data[numeric_cols]\u001b[38;5;241m.\u001b[39miloc[t \u001b[38;5;241m+\u001b[39m \u001b[38;5;241m1\u001b[39m]\n\u001b[0;32m      8\u001b[0m \u001b[38;5;66;03m# print(current_state)\u001b[39;00m\n\u001b[1;32m----> 9\u001b[0m action \u001b[38;5;241m=\u001b[39m choose_action(current_state, model)\n\u001b[0;32m     10\u001b[0m reward \u001b[38;5;241m=\u001b[39m calculate_reward(current_state, next_state)\n\u001b[0;32m     12\u001b[0m update_model(model, current_state, action, reward, next_state)\n",
      "Cell \u001b[1;32mIn[43], line 8\u001b[0m, in \u001b[0;36mchoose_action\u001b[1;34m(state, model)\u001b[0m\n\u001b[0;32m      6\u001b[0m state \u001b[38;5;241m=\u001b[39m state\u001b[38;5;241m.\u001b[39mreshape(\u001b[38;5;241m1\u001b[39m, \u001b[38;5;241m-\u001b[39m\u001b[38;5;241m1\u001b[39m)\n\u001b[0;32m      7\u001b[0m \u001b[38;5;66;03m# Use the model to predict the action from the current state\u001b[39;00m\n\u001b[1;32m----> 8\u001b[0m q_values \u001b[38;5;241m=\u001b[39m model\u001b[38;5;241m.\u001b[39mpredict(state)\n\u001b[0;32m      9\u001b[0m \u001b[38;5;28;01mreturn\u001b[39;00m np\u001b[38;5;241m.\u001b[39margmax(q_values[\u001b[38;5;241m0\u001b[39m])\n",
      "File \u001b[1;32m~\\AppData\\Roaming\\Python\\Python311\\site-packages\\keras\\src\\utils\\traceback_utils.py:122\u001b[0m, in \u001b[0;36mfilter_traceback.<locals>.error_handler\u001b[1;34m(*args, **kwargs)\u001b[0m\n\u001b[0;32m    119\u001b[0m     filtered_tb \u001b[38;5;241m=\u001b[39m _process_traceback_frames(e\u001b[38;5;241m.\u001b[39m__traceback__)\n\u001b[0;32m    120\u001b[0m     \u001b[38;5;66;03m# To get the full stack trace, call:\u001b[39;00m\n\u001b[0;32m    121\u001b[0m     \u001b[38;5;66;03m# `keras.config.disable_traceback_filtering()`\u001b[39;00m\n\u001b[1;32m--> 122\u001b[0m     \u001b[38;5;28;01mraise\u001b[39;00m e\u001b[38;5;241m.\u001b[39mwith_traceback(filtered_tb) \u001b[38;5;28;01mfrom\u001b[39;00m \u001b[38;5;28;01mNone\u001b[39;00m\n\u001b[0;32m    123\u001b[0m \u001b[38;5;28;01mfinally\u001b[39;00m:\n\u001b[0;32m    124\u001b[0m     \u001b[38;5;28;01mdel\u001b[39;00m filtered_tb\n",
      "File \u001b[1;32m~\\AppData\\Roaming\\Python\\Python311\\site-packages\\keras\\src\\layers\\input_spec.py:227\u001b[0m, in \u001b[0;36massert_input_compatibility\u001b[1;34m(input_spec, inputs, layer_name)\u001b[0m\n\u001b[0;32m    222\u001b[0m     \u001b[38;5;28;01mfor\u001b[39;00m axis, value \u001b[38;5;129;01min\u001b[39;00m spec\u001b[38;5;241m.\u001b[39maxes\u001b[38;5;241m.\u001b[39mitems():\n\u001b[0;32m    223\u001b[0m         \u001b[38;5;28;01mif\u001b[39;00m value \u001b[38;5;129;01mis\u001b[39;00m \u001b[38;5;129;01mnot\u001b[39;00m \u001b[38;5;28;01mNone\u001b[39;00m \u001b[38;5;129;01mand\u001b[39;00m shape[axis] \u001b[38;5;129;01mnot\u001b[39;00m \u001b[38;5;129;01min\u001b[39;00m {\n\u001b[0;32m    224\u001b[0m             value,\n\u001b[0;32m    225\u001b[0m             \u001b[38;5;28;01mNone\u001b[39;00m,\n\u001b[0;32m    226\u001b[0m         }:\n\u001b[1;32m--> 227\u001b[0m             \u001b[38;5;28;01mraise\u001b[39;00m \u001b[38;5;167;01mValueError\u001b[39;00m(\n\u001b[0;32m    228\u001b[0m                 \u001b[38;5;124mf\u001b[39m\u001b[38;5;124m'\u001b[39m\u001b[38;5;124mInput \u001b[39m\u001b[38;5;132;01m{\u001b[39;00minput_index\u001b[38;5;132;01m}\u001b[39;00m\u001b[38;5;124m of layer \u001b[39m\u001b[38;5;124m\"\u001b[39m\u001b[38;5;132;01m{\u001b[39;00mlayer_name\u001b[38;5;132;01m}\u001b[39;00m\u001b[38;5;124m\"\u001b[39m\u001b[38;5;124m is \u001b[39m\u001b[38;5;124m'\u001b[39m\n\u001b[0;32m    229\u001b[0m                 \u001b[38;5;124mf\u001b[39m\u001b[38;5;124m\"\u001b[39m\u001b[38;5;124mincompatible with the layer: expected axis \u001b[39m\u001b[38;5;132;01m{\u001b[39;00maxis\u001b[38;5;132;01m}\u001b[39;00m\u001b[38;5;124m \u001b[39m\u001b[38;5;124m\"\u001b[39m\n\u001b[0;32m    230\u001b[0m                 \u001b[38;5;124mf\u001b[39m\u001b[38;5;124m\"\u001b[39m\u001b[38;5;124mof input shape to have value \u001b[39m\u001b[38;5;132;01m{\u001b[39;00mvalue\u001b[38;5;132;01m}\u001b[39;00m\u001b[38;5;124m, \u001b[39m\u001b[38;5;124m\"\u001b[39m\n\u001b[0;32m    231\u001b[0m                 \u001b[38;5;124m\"\u001b[39m\u001b[38;5;124mbut received input with \u001b[39m\u001b[38;5;124m\"\u001b[39m\n\u001b[0;32m    232\u001b[0m                 \u001b[38;5;124mf\u001b[39m\u001b[38;5;124m\"\u001b[39m\u001b[38;5;124mshape \u001b[39m\u001b[38;5;132;01m{\u001b[39;00mshape\u001b[38;5;132;01m}\u001b[39;00m\u001b[38;5;124m\"\u001b[39m\n\u001b[0;32m    233\u001b[0m             )\n\u001b[0;32m    234\u001b[0m \u001b[38;5;66;03m# Check shape.\u001b[39;00m\n\u001b[0;32m    235\u001b[0m \u001b[38;5;28;01mif\u001b[39;00m spec\u001b[38;5;241m.\u001b[39mshape \u001b[38;5;129;01mis\u001b[39;00m \u001b[38;5;129;01mnot\u001b[39;00m \u001b[38;5;28;01mNone\u001b[39;00m:\n",
      "\u001b[1;31mValueError\u001b[0m: Exception encountered when calling Sequential.call().\n\n\u001b[1mInput 0 of layer \"dense_12\" is incompatible with the layer: expected axis -1 of input shape to have value 1740, but received input with shape (1, 7)\u001b[0m\n\nArguments received by Sequential.call():\n  • inputs=tf.Tensor(shape=(1, 7), dtype=float32)\n  • training=False\n  • mask=None"
     ]
    }
   ],
   "source": [
    "\n",
    "train_model(stock_data, model, 1000)\n"
   ]
  },
  {
   "cell_type": "code",
   "execution_count": null,
   "metadata": {},
   "outputs": [
    {
     "name": "stdout",
     "output_type": "stream",
     "text": [
      "                       Datetime      Open      High       Low     Close  \\\n",
      "0     2023-01-03 09:30:00-05:00  0.079293  0.063917  0.043810  0.028010   \n",
      "1     2023-01-03 10:30:00-05:00  0.041261  0.029894  0.032008  0.014551   \n",
      "2     2023-01-03 11:30:00-05:00  0.028049  0.010471  0.019441  0.002494   \n",
      "3     2023-01-03 12:30:00-05:00  0.016139  0.000000  0.014517  0.000000   \n",
      "4     2023-01-03 13:30:00-05:00  0.013685  0.005051  0.018108  0.008575   \n",
      "...                         ...       ...       ...       ...       ...   \n",
      "1737  2023-12-29 11:30:00-05:00  0.743414  0.743068  0.748141  0.742037   \n",
      "1738  2023-12-29 12:30:00-05:00  0.745643  0.744365  0.748808  0.749065   \n",
      "1739  2023-12-29 13:30:00-05:00  0.752537  0.749811  0.756861  0.747014   \n",
      "1740  2023-12-29 14:30:00-05:00  0.750461  0.748151  0.757066  0.752144   \n",
      "1741  2023-12-29 15:30:00-05:00  0.755510  0.746543  0.750500  0.742192   \n",
      "\n",
      "        Volume  Dividends  Stock Splits  \n",
      "0     0.675390        NaN           NaN  \n",
      "1     0.323906        NaN           NaN  \n",
      "2     0.318607        NaN           NaN  \n",
      "3     0.214739        NaN           NaN  \n",
      "4     0.206670        NaN           NaN  \n",
      "...        ...        ...           ...  \n",
      "1737  0.081401        NaN           NaN  \n",
      "1738  0.070578        NaN           NaN  \n",
      "1739  0.054754        NaN           NaN  \n",
      "1740  0.043303        NaN           NaN  \n",
      "1741  0.031024        NaN           NaN  \n",
      "\n",
      "[1742 rows x 8 columns]\n"
     ]
    }
   ],
   "source": [
    "print(stock_data) "
   ]
  },
  {
   "cell_type": "markdown",
   "metadata": {},
   "source": [
    "## Evaluation\n",
    "Testing: After training, test the model on unseen data to assess its predictive accuracy.\n",
    "Performance Metrics: Use metrics like RMSE or predictive accuracy grades as used in the paper to evaluate performance."
   ]
  },
  {
   "cell_type": "code",
   "execution_count": null,
   "metadata": {},
   "outputs": [],
   "source": []
  },
  {
   "cell_type": "markdown",
   "metadata": {},
   "source": [
    "## Monitoring and Adjustment\n",
    "Continuous Monitoring: Set up scripts to monitor the model’s performance over time.\n",
    "Adjustment: Tune parameters and refine the model as needed based on performance metrics."
   ]
  },
  {
   "cell_type": "code",
   "execution_count": null,
   "metadata": {},
   "outputs": [],
   "source": []
  },
  {
   "cell_type": "markdown",
   "metadata": {},
   "source": []
  },
  {
   "cell_type": "code",
   "execution_count": null,
   "metadata": {},
   "outputs": [],
   "source": []
  },
  {
   "cell_type": "markdown",
   "metadata": {},
   "source": []
  },
  {
   "cell_type": "code",
   "execution_count": null,
   "metadata": {},
   "outputs": [],
   "source": []
  },
  {
   "cell_type": "markdown",
   "metadata": {},
   "source": []
  },
  {
   "cell_type": "code",
   "execution_count": null,
   "metadata": {},
   "outputs": [],
   "source": []
  },
  {
   "cell_type": "markdown",
   "metadata": {},
   "source": []
  },
  {
   "cell_type": "code",
   "execution_count": null,
   "metadata": {},
   "outputs": [],
   "source": []
  },
  {
   "cell_type": "markdown",
   "metadata": {},
   "source": []
  }
 ],
 "metadata": {
  "kernelspec": {
   "display_name": "base",
   "language": "python",
   "name": "python3"
  },
  "language_info": {
   "codemirror_mode": {
    "name": "ipython",
    "version": 3
   },
   "file_extension": ".py",
   "mimetype": "text/x-python",
   "name": "python",
   "nbconvert_exporter": "python",
   "pygments_lexer": "ipython3",
   "version": "3.11.4"
  }
 },
 "nbformat": 4,
 "nbformat_minor": 2
}
